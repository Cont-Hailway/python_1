{
  "nbformat": 4,
  "nbformat_minor": 0,
  "metadata": {
    "colab": {
      "provenance": []
    },
    "kernelspec": {
      "name": "python3",
      "display_name": "Python 3"
    }
  },
  "cells": [
    {
      "cell_type": "markdown",
      "metadata": {
        "id": "KJqp9AANOCtf"
      },
      "source": [
        "<img src=\"https://raw.githubusercontent.com/andre-marcos-perez/ebac-course-utils/main/media/logo/newebac_logo_black_half.png\" alt=\"ebac-logo\">\n",
        "\n",
        "---\n",
        "\n",
        "# **Módulo** | Python: Estruturas de Dados\n",
        "Caderno de **Exercícios**<br>\n",
        "Professor [André Perez](https://www.linkedin.com/in/andremarcosperez/)\n",
        "\n",
        "---"
      ]
    },
    {
      "cell_type": "markdown",
      "metadata": {
        "id": "d9jDtUbDOE1-"
      },
      "source": [
        "# **Tópicos**\n",
        "\n",
        "<ol type=\"1\">\n",
        "  <li>Listas;</li>\n",
        "  <li>Conjuntos;</li>\n",
        "  <li>Dicionários.</li>\n",
        "</ol>"
      ]
    },
    {
      "cell_type": "markdown",
      "metadata": {
        "id": "SmoHgt-lwkpD"
      },
      "source": [
        "---"
      ]
    },
    {
      "cell_type": "markdown",
      "metadata": {
        "id": "GABI6OW8OfQ2"
      },
      "source": [
        "# **Exercícios**"
      ]
    },
    {
      "cell_type": "markdown",
      "metadata": {
        "id": "muD1vxozykSC"
      },
      "source": [
        "## 1\\. Listas"
      ]
    },
    {
      "cell_type": "markdown",
      "metadata": {
        "id": "ahrFfCuBxJKs"
      },
      "source": [
        "Criei uma lista chamada `filmes` com o nome dos 10 primeiros filmes mais bem avaliados no site no [IMDB](https://www.imdb.com/chart/top/). Imprima o resultado."
      ]
    },
    {
      "cell_type": "code",
      "metadata": {
        "id": "OgL6Hv3bzOHI",
        "colab": {
          "base_uri": "https://localhost:8080/"
        },
        "outputId": "aa687050-d899-45ea-e4b9-17d7342cee27"
      },
      "source": [
        "filmes = [' Um Sonho de Liberdade',' O Poderoso Chefão',' Batman: O Cavaleiro das Trevas',' O Poderoso Chefão II',' 12 Homens e uma Sentença',' A Lista de Schindler',' O Senhor dos Anéis: O Retorno do Rei',' Pulp Fiction - Tempo de Violência',' O Senhor dos Anéis: A Sociedade do Anel',' Três Homens em Conflito']\n",
        "\n",
        "print(filmes)\n",
        "print('')\n",
        "print(type(filmes))"
      ],
      "execution_count": 49,
      "outputs": [
        {
          "output_type": "stream",
          "name": "stdout",
          "text": [
            "[' Um Sonho de Liberdade', ' O Poderoso Chefão', ' Batman: O Cavaleiro das Trevas', ' O Poderoso Chefão II', ' 12 Homens e uma Sentença', ' A Lista de Schindler', ' O Senhor dos Anéis: O Retorno do Rei', ' Pulp Fiction - Tempo de Violência', ' O Senhor dos Anéis: A Sociedade do Anel', ' Três Homens em Conflito']\n",
            "\n",
            "<class 'list'>\n"
          ]
        }
      ]
    },
    {
      "cell_type": "markdown",
      "metadata": {
        "id": "KI9zQRT2xa7m"
      },
      "source": [
        "Simule a movimentação do *ranking*. Utilize os métodos `insert` e `pop` para trocar a posição do primeiro e do segundo filme da lista. Imprima o resultado.\n",
        "\n"
      ]
    },
    {
      "cell_type": "code",
      "metadata": {
        "id": "zX3mA3_GzrXH",
        "colab": {
          "base_uri": "https://localhost:8080/"
        },
        "outputId": "0ef00c0a-46bd-43db-acc0-96fbcb2a472c"
      },
      "source": [
        "#Retirando o primeiro elemento da lista acima.\n",
        "\n",
        "filmes_modif_1 = filmes.pop(0)\n",
        "\n",
        "#Colocando o item na segunda posição da lista acima.\n",
        "\n",
        "filmes_modif_1 = filmes.insert(1,'Um sonho de liberdade')\n",
        "\n",
        "filmes_modif_1 = filmes\n",
        "\n",
        "#Imprimindo na tela a solucção da problemática\n",
        "\n",
        "print(filmes_modif_1)"
      ],
      "execution_count": 50,
      "outputs": [
        {
          "output_type": "stream",
          "name": "stdout",
          "text": [
            "[' O Poderoso Chefão', 'Um sonho de liberdade', ' Batman: O Cavaleiro das Trevas', ' O Poderoso Chefão II', ' 12 Homens e uma Sentença', ' A Lista de Schindler', ' O Senhor dos Anéis: O Retorno do Rei', ' Pulp Fiction - Tempo de Violência', ' O Senhor dos Anéis: A Sociedade do Anel', ' Três Homens em Conflito']\n"
          ]
        }
      ]
    },
    {
      "cell_type": "markdown",
      "metadata": {
        "id": "zMN1Q3jdwoJm"
      },
      "source": [
        "---"
      ]
    },
    {
      "cell_type": "markdown",
      "metadata": {
        "id": "lxa5L6uF0ZJE"
      },
      "source": [
        "## 2\\. Conjuntos"
      ]
    },
    {
      "cell_type": "markdown",
      "metadata": {
        "id": "9JahS2Kj0d5u"
      },
      "source": [
        "Aconteceu um erro no seu *ranking*. Simule a duplicação dos três últimos filmes da lista. Imprima o resultado."
      ]
    },
    {
      "cell_type": "code",
      "metadata": {
        "id": "BnjnLBNC6PGe",
        "colab": {
          "base_uri": "https://localhost:8080/"
        },
        "outputId": "dff1cd0d-bd08-4d3b-dfce-68f0530cf26f"
      },
      "source": [
        "# Adicionando duplicidade\n",
        "\n",
        "filmes_modif_2 = filmes_modif_1.append(' Três Homens em Conflito')\n",
        "filmes_modif_2 = filmes_modif_1.append(' O Senhor dos Anéis: A Sociedade do Anel')\n",
        "filmes_modif_2 = filmes_modif_1.append(' Pulp Fiction - Tempo de Violência')\n",
        "\n",
        "filmes_modif_2 = filmes_modif_1\n",
        "\n",
        "print(filmes_modif_2)\n",
        "\n"
      ],
      "execution_count": 51,
      "outputs": [
        {
          "output_type": "stream",
          "name": "stdout",
          "text": [
            "[' O Poderoso Chefão', 'Um sonho de liberdade', ' Batman: O Cavaleiro das Trevas', ' O Poderoso Chefão II', ' 12 Homens e uma Sentença', ' A Lista de Schindler', ' O Senhor dos Anéis: O Retorno do Rei', ' Pulp Fiction - Tempo de Violência', ' O Senhor dos Anéis: A Sociedade do Anel', ' Três Homens em Conflito', ' Três Homens em Conflito', ' O Senhor dos Anéis: A Sociedade do Anel', ' Pulp Fiction - Tempo de Violência']\n"
          ]
        }
      ]
    },
    {
      "cell_type": "markdown",
      "metadata": {
        "id": "suxTfCJB6ZiX"
      },
      "source": [
        "Utiliza a conversão `set` e `list` para remover os valores duplicados. Imprima o resultado."
      ]
    },
    {
      "cell_type": "code",
      "metadata": {
        "id": "ZvUGN-0n6joM",
        "colab": {
          "base_uri": "https://localhost:8080/"
        },
        "outputId": "4084299a-c1d3-4882-81e1-7cbd144f50db"
      },
      "source": [
        "#Tipo da variável 'filmes_modif_2'\n",
        "print(type(filmes_modif_2))\n",
        "print('')\n",
        "\n",
        "#Conversão para type e Remoção de valores duplicados\n",
        "print(set(filmes_modif_2))\n",
        "print('')\n",
        "\n",
        "#Remoção de valores duplicados\n",
        "print(type(set(filmes_modif_2)))\n",
        "print('')\n",
        "\n",
        "\n",
        "\n",
        "\n"
      ],
      "execution_count": 52,
      "outputs": [
        {
          "output_type": "stream",
          "name": "stdout",
          "text": [
            "<class 'list'>\n",
            "\n",
            "{' O Senhor dos Anéis: O Retorno do Rei', ' 12 Homens e uma Sentença', 'Um sonho de liberdade', ' A Lista de Schindler', ' O Poderoso Chefão', ' Pulp Fiction - Tempo de Violência', ' O Senhor dos Anéis: A Sociedade do Anel', ' Três Homens em Conflito', ' O Poderoso Chefão II', ' Batman: O Cavaleiro das Trevas'}\n",
            "\n",
            "<class 'set'>\n",
            "\n"
          ]
        }
      ]
    },
    {
      "cell_type": "markdown",
      "metadata": {
        "id": "ShkK35eQ6pAM"
      },
      "source": [
        "---"
      ]
    },
    {
      "cell_type": "markdown",
      "metadata": {
        "id": "EL_FzmxL6rTv"
      },
      "source": [
        "## 3\\. Dicionários"
      ]
    },
    {
      "cell_type": "markdown",
      "metadata": {
        "id": "i8l0gFqRCpfT"
      },
      "source": [
        "Repita os exercícios da parte 1 (listas). Os elementos da lista `filmes` devem ser dicionários no seguinte formato: `{'nome': <nome-do-filme>, 'ano': <ano do filme>, 'sinopse': <sinopse do filme>}`."
      ]
    },
    {
      "cell_type": "code",
      "metadata": {
        "id": "tu6MSFwGDnHv",
        "colab": {
          "base_uri": "https://localhost:8080/"
        },
        "outputId": "123fba06-4aaa-4d4f-98f5-8b2bc7c66d55"
      },
      "source": [
        "filmes = {\n",
        "    'Um Sonho de Liberdade':{\n",
        "        'nome':'Um Sonho de Liberdade',\n",
        "        'ano':'1994',\n",
        "        'Sinopse':'Dois homens presos se reúnem ao longo de vários anos, encontrando consolo e eventual redenção através de atos de decência comum.'},\n",
        "\n",
        "    'O Poderoso Chefão':{\n",
        "        'nome':'O Poderoso Chefão',\n",
        "        'ano': '1974',\n",
        "        'Sinopse':'O patriarca idoso de uma dinastia do crime organizado transfere o controle de seu império clandestino para seu filho relutante.'},\n",
        "\n",
        "    'Batman: O Cavaleiro das Trevas':{\n",
        "        'nome':'Batman: O Cavaleiro das Trevas',\n",
        "        'ano': '2008',\n",
        "        'Sinopse':'Quando a ameaça conhecida como O Coringa surge de seu passado, causa estragos e caos nas pessoas de Gotham. O Cavaleiro das Trevas deve aceitar um dos maiores testes para combater a injustiça'},\n",
        "\n",
        "    'O Poderoso Chefão II':{\n",
        "        'nome':'O Poderoso Chefão II',\n",
        "        'ano': '1974',\n",
        "        'Sinopse':'Em 1950, Michael Corleone, agora à frente da família, tenta expandir o negócio do crime a Las Vegas, Los Angeles e Cuba.'},\n",
        "\n",
        "    '12 Homens e uma Sentença':{\n",
        "        'nome':'12 Homens e uma Sentença',\n",
        "        'ano': '1957',\n",
        "        'Sinopse':'O julgamento de um assassinato em Nova Iorque é frustrado por um único membro, cujo ceticismo força o júri a considerar cuidadosamente as evidências antes de dar o veredito.'},\n",
        "\n",
        "    'A Lista de Schindler':{\n",
        "        'nome':'A Lista de Schindler',\n",
        "        'ano': '1993',\n",
        "        'Sinopse':'Na Polônia ocupada pelos alemães durante a Segunda Guerra Mundial, o industrial Oskar Schindler começa a ser preocupar com seus trabalhadores judeus depois de testemunhar sua perseguição'},\n",
        "\n",
        "    'O Senhor dos Anéis: O Retorno do Rei':{\n",
        "        'nome':'O Senhor dos Anéis: O Retorno do Rei',\n",
        "        'ano': '2003',\n",
        "        'Sinopse':'Gandalf e Aragorn lideram o Mundo dos Homens contra o exército de Sauron para desviar o olhar de Frodo e Sam quando eles se aproximam á Montanha da Perdição com o Um Anel.'},\n",
        "\n",
        "    'Pulp Fiction - Tempo de Violência':{\n",
        "        'nome':'Pulp Fiction - Tempo de Violência',\n",
        "        'ano': '1994',\n",
        "        'Sinopse':'As vidas de dois assassinos da máfia, um boxeador, um gângster e sua esposa, e um par de bandidos se entrelaçam em quatro histórias de violência e redenção.'},\n",
        "\n",
        "    'O Senhor dos Anéis: A Sociedade do Anel':{\n",
        "        'nome':'O Senhor dos Anéis: A Sociedade do Anel',\n",
        "        'ano': '2001',\n",
        "        'Sinopse':'Um manso hobbit do Condado e oito companheiros partem em uma jornada para destruir o poderoso Um Anel e salvar a Terra-média das Trevas.'},\n",
        "\n",
        "    'Três Homens em Conflito':{\n",
        "        'nome':'Três Homens em Conflito',\n",
        "        'ano': '1966',\n",
        "        'Sinopse':'Um impostor se junta com dois homens para encontrar fortuna num remoto cemitério.'}\n",
        "\n",
        "}\n",
        "\n",
        "\n",
        "print(filmes)\n",
        "\n",
        "\n"
      ],
      "execution_count": 53,
      "outputs": [
        {
          "output_type": "stream",
          "name": "stdout",
          "text": [
            "{'Um Sonho de Liberdade': {'nome': 'Um Sonho de Liberdade', 'ano': '1994', 'Sinopse': 'Dois homens presos se reúnem ao longo de vários anos, encontrando consolo e eventual redenção através de atos de decência comum.'}, 'O Poderoso Chefão': {'nome': 'O Poderoso Chefão', 'ano': '1974', 'Sinopse': 'O patriarca idoso de uma dinastia do crime organizado transfere o controle de seu império clandestino para seu filho relutante.'}, 'Batman: O Cavaleiro das Trevas': {'nome': 'Batman: O Cavaleiro das Trevas', 'ano': '2008', 'Sinopse': 'Quando a ameaça conhecida como O Coringa surge de seu passado, causa estragos e caos nas pessoas de Gotham. O Cavaleiro das Trevas deve aceitar um dos maiores testes para combater a injustiça'}, 'O Poderoso Chefão II': {'nome': 'O Poderoso Chefão II', 'ano': '1974', 'Sinopse': 'Em 1950, Michael Corleone, agora à frente da família, tenta expandir o negócio do crime a Las Vegas, Los Angeles e Cuba.'}, '12 Homens e uma Sentença': {'nome': '12 Homens e uma Sentença', 'ano': '1957', 'Sinopse': 'O julgamento de um assassinato em Nova Iorque é frustrado por um único membro, cujo ceticismo força o júri a considerar cuidadosamente as evidências antes de dar o veredito.'}, 'A Lista de Schindler': {'nome': 'A Lista de Schindler', 'ano': '1993', 'Sinopse': 'Na Polônia ocupada pelos alemães durante a Segunda Guerra Mundial, o industrial Oskar Schindler começa a ser preocupar com seus trabalhadores judeus depois de testemunhar sua perseguição'}, 'O Senhor dos Anéis: O Retorno do Rei': {'nome': 'O Senhor dos Anéis: O Retorno do Rei', 'ano': '2003', 'Sinopse': 'Gandalf e Aragorn lideram o Mundo dos Homens contra o exército de Sauron para desviar o olhar de Frodo e Sam quando eles se aproximam á Montanha da Perdição com o Um Anel.'}, 'Pulp Fiction - Tempo de Violência': {'nome': 'Pulp Fiction - Tempo de Violência', 'ano': '1994', 'Sinopse': 'As vidas de dois assassinos da máfia, um boxeador, um gângster e sua esposa, e um par de bandidos se entrelaçam em quatro histórias de violência e redenção.'}, 'O Senhor dos Anéis: A Sociedade do Anel': {'nome': 'O Senhor dos Anéis: A Sociedade do Anel', 'ano': '2001', 'Sinopse': 'Um manso hobbit do Condado e oito companheiros partem em uma jornada para destruir o poderoso Um Anel e salvar a Terra-média das Trevas.'}, 'Três Homens em Conflito': {'nome': 'Três Homens em Conflito', 'ano': '1966', 'Sinopse': 'Um impostor se junta com dois homens para encontrar fortuna num remoto cemitério.'}}\n"
          ]
        }
      ]
    },
    {
      "cell_type": "code",
      "source": [
        "filmes['O Poderoso Chefão II']['Sinopse']"
      ],
      "metadata": {
        "colab": {
          "base_uri": "https://localhost:8080/",
          "height": 36
        },
        "id": "9ijxwKoCr5je",
        "outputId": "380116b9-f283-4788-d3c3-b19b590beb01"
      },
      "execution_count": 54,
      "outputs": [
        {
          "output_type": "execute_result",
          "data": {
            "text/plain": [
              "'Em 1950, Michael Corleone, agora à frente da família, tenta expandir o negócio do crime a Las Vegas, Los Angeles e Cuba.'"
            ],
            "application/vnd.google.colaboratory.intrinsic+json": {
              "type": "string"
            }
          },
          "metadata": {},
          "execution_count": 54
        }
      ]
    }
  ]
}